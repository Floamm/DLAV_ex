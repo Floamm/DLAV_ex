{
 "cells": [
  {
   "cell_type": "markdown",
   "metadata": {
    "id": "tSvEQOUR1niR"
   },
   "source": [
    "# Training Neural Networks\n",
    "\n",
    "The network we built in Part 1 is dumb, it doesn't know anything about our handwritten digits. Neural networks with non-linear activations work like universal function approximators. There is some function that maps your input to the output. For example, images of handwritten digits to class probabilities. The power of neural networks is that we can train them to approximate this function, and basically any function given enough data and compute time.\n",
    "\n",
    "<img src=\"https://drive.google.com/uc?id=1RgTsNL493xOyoGAEm72XNv39LflYMguN\" width=500px>\n",
    "\n",
    "At first the network is naive, it doesn't know the function mapping the inputs to the outputs. We train the network by showing it examples of real data, then adjusting the network parameters such that it approximates this function.\n",
    "\n",
    "To find these parameters, we need to know how poorly the network is predicting the real outputs. For this we calculate a **loss function** (also called the cost), a measure of our prediction error. For example, the mean squared loss is often used in regression and binary classification problems\n",
    "\n",
    "$$\n",
    "C = \\frac{1}{2n}\\sum_i^n{\\left(y_i - \\hat{y}_i\\right)^2}\n",
    "$$\n",
    "\n",
    "where $n$ is the number of training examples, $y_i$ are the true labels, and $\\hat{y}_i$ are the predicted labels.\n",
    "\n",
    "By minimizing this loss with respect to the network parameters, we can find configurations where the loss is at a minimum and the network is able to predict the correct labels with high accuracy. We find this minimum using a process called **gradient descent**. The gradient is the slope of the loss function and points in the direction of fastest change. To get to the minimum in the least amount of time, we then want to follow the gradient (downwards). You can think of this like descending a mountain by following the steepest slope to the base.\n",
    "\n",
    "<img src='https://drive.google.com/uc?id=1Z3PpvEXeDBDHrylvTstoqKsqG6557VQV' width=350px>"
   ]
  },
  {
   "cell_type": "markdown",
   "metadata": {
    "id": "wa1jBUGi1nib"
   },
   "source": [
    "## Backpropagation\n",
    "\n",
    "For single layer networks, gradient descent is simple to implement. However, it's more complicated for deeper, multilayer neural networks like the one we've built. Complicated enough that it took about 30 years before researchers figured out how to train multilayer networks, although it's straightforward once you learn about it. \n",
    "\n",
    "This is done through **backpropagation** which is really just an application of the chain rule from calculus. It's easiest to understand if we convert a two layer network into a graph representation.\n",
    "\n",
    "<img src=\"https://drive.google.com/uc?id=1S7zeIG1PDOFutyYCd-j-7zDJc-ONxlvv\" width=400px>\n",
    "\n",
    "\n",
    "\n",
    "In the forward pass through the network, our data and operations go from right to left here. To train the weights with gradient descent, we propagate the gradient of the cost backwards through the network. Mathematically, this is really just calculating the gradient of the loss with respect to the weights using the chain rule.\n",
    "\n",
    "$$\n",
    "\\frac{\\partial C}{\\partial w_1} = \\frac{\\partial l_1}{\\partial w_1} \\frac{\\partial s}{\\partial l_1} \\frac{\\partial l_2}{\\partial s} \\frac{\\partial C}{\\partial l_2}\n",
    "$$\n",
    "\n",
    "We update our weights using this gradient with some learning rate $\\alpha$. \n",
    "\n",
    "$$\n",
    "w^\\prime = w - \\alpha \\frac{\\partial C}{\\partial w}\n",
    "$$\n",
    "\n",
    "The learning rate is set such that the weight update steps are small enough that the iterative method settles in a minimum.\n",
    "\n",
    "The first thing we need to do for training is define our loss function. In PyTorch, you'll usually see this as `criterion`. Here we're using softmax output, so we want to use `criterion = nn.CrossEntropyLoss()` as our loss. Later when training, you use `loss = criterion(output, targets)` to calculate the actual loss.\n",
    "\n",
    "We also need to define the optimizer we're using, SGD or Adam, or something along those lines. Here I'll just use SGD with `torch.optim.SGD`, passing in the network parameters and the learning rate."
   ]
  },
  {
   "cell_type": "markdown",
   "metadata": {
    "id": "4mv2v0Xe1nid"
   },
   "source": [
    "Virat## Gradients\n",
    "\n",
    "In PyTorch, the gradients are calculated automatically. It does this by keeping track of operations performed on tensors. For PyTorch to track operations and calculate the gradients, you need to set `require_grad` = `True` when creating a tensor.\n",
    "\n",
    "The gradients of a tensor (e.g.,`z`) are computed with respect to the variable that created it using `z.backward()`. This does a backward pass through the operations that created `z`."
   ]
  },
  {
   "cell_type": "code",
   "execution_count": 1,
   "metadata": {
    "executionInfo": {
     "elapsed": 245,
     "status": "ok",
     "timestamp": 1646857633346,
     "user": {
      "displayName": "Saeed Saadatnejad",
      "photoUrl": "https://lh3.googleusercontent.com/a-/AOh14GgAqJtubhu0G3PplzJAC5kv4wVsgl6ly2SREwRl_g=s64",
      "userId": "14782386802635138309"
     },
     "user_tz": -60
    },
    "id": "cVlm-V031nif"
   },
   "outputs": [],
   "source": [
    "%matplotlib inline\n",
    "%config InlineBackend.figure_format = 'retina'\n",
    "\n",
    "import numpy as np\n",
    "import time\n",
    "\n",
    "import torch\n",
    "from torch import nn\n",
    "from torch import optim\n",
    "import torch.nn.functional as F\n",
    "import matplotlib.pyplot as plt"
   ]
  },
  {
   "cell_type": "code",
   "execution_count": 2,
   "metadata": {
    "colab": {
     "base_uri": "https://localhost:8080/"
    },
    "executionInfo": {
     "elapsed": 10,
     "status": "ok",
     "timestamp": 1646857583628,
     "user": {
      "displayName": "Saeed Saadatnejad",
      "photoUrl": "https://lh3.googleusercontent.com/a-/AOh14GgAqJtubhu0G3PplzJAC5kv4wVsgl6ly2SREwRl_g=s64",
      "userId": "14782386802635138309"
     },
     "user_tz": -60
    },
    "id": "RZ9339mZ1nii",
    "outputId": "e421393d-b469-4680-b309-8f6e8c4c9fef"
   },
   "outputs": [
    {
     "data": {
      "text/plain": [
       "tensor([[1., 1.],\n",
       "        [1., 1.]], requires_grad=True)"
      ]
     },
     "execution_count": 2,
     "metadata": {},
     "output_type": "execute_result"
    }
   ],
   "source": [
    "x = torch.ones(2,2,requires_grad=True)\n",
    "x"
   ]
  },
  {
   "cell_type": "code",
   "execution_count": 3,
   "metadata": {
    "colab": {
     "base_uri": "https://localhost:8080/"
    },
    "executionInfo": {
     "elapsed": 6,
     "status": "ok",
     "timestamp": 1646857583628,
     "user": {
      "displayName": "Saeed Saadatnejad",
      "photoUrl": "https://lh3.googleusercontent.com/a-/AOh14GgAqJtubhu0G3PplzJAC5kv4wVsgl6ly2SREwRl_g=s64",
      "userId": "14782386802635138309"
     },
     "user_tz": -60
    },
    "id": "htTgBSRa1nil",
    "outputId": "960618f9-3371-4214-e8f2-eca490b63de5"
   },
   "outputs": [
    {
     "data": {
      "text/plain": [
       "tensor([[12., 12.],\n",
       "        [12., 12.]], grad_fn=<MulBackward0>)"
      ]
     },
     "execution_count": 3,
     "metadata": {},
     "output_type": "execute_result"
    }
   ],
   "source": [
    "y = 3*(x+1)**2\n",
    "y"
   ]
  },
  {
   "cell_type": "markdown",
   "metadata": {
    "id": "L_JeJCcE1nim"
   },
   "source": [
    "Below we can see the operation that created `y`, a `MulConstant` op."
   ]
  },
  {
   "cell_type": "code",
   "execution_count": 4,
   "metadata": {
    "colab": {
     "base_uri": "https://localhost:8080/"
    },
    "executionInfo": {
     "elapsed": 10,
     "status": "ok",
     "timestamp": 1646857584499,
     "user": {
      "displayName": "Saeed Saadatnejad",
      "photoUrl": "https://lh3.googleusercontent.com/a-/AOh14GgAqJtubhu0G3PplzJAC5kv4wVsgl6ly2SREwRl_g=s64",
      "userId": "14782386802635138309"
     },
     "user_tz": -60
    },
    "id": "1V1Ba1h-1nio",
    "outputId": "747f841d-5561-45b5-9737-9551bff617ae"
   },
   "outputs": [
    {
     "data": {
      "text/plain": [
       "<MulBackward0 at 0x1c51c85e7d0>"
      ]
     },
     "execution_count": 4,
     "metadata": {},
     "output_type": "execute_result"
    }
   ],
   "source": [
    "## grad_fn shows the function that generated this variable\n",
    "y.grad_fn"
   ]
  },
  {
   "cell_type": "code",
   "execution_count": 5,
   "metadata": {
    "colab": {
     "base_uri": "https://localhost:8080/"
    },
    "executionInfo": {
     "elapsed": 7,
     "status": "ok",
     "timestamp": 1646857584500,
     "user": {
      "displayName": "Saeed Saadatnejad",
      "photoUrl": "https://lh3.googleusercontent.com/a-/AOh14GgAqJtubhu0G3PplzJAC5kv4wVsgl6ly2SREwRl_g=s64",
      "userId": "14782386802635138309"
     },
     "user_tz": -60
    },
    "id": "jqU5md7u1nip",
    "outputId": "76799cb0-b6df-473d-d923-f62deb3d7da2"
   },
   "outputs": [
    {
     "data": {
      "text/plain": [
       "tensor(12., grad_fn=<MeanBackward0>)"
      ]
     },
     "execution_count": 5,
     "metadata": {},
     "output_type": "execute_result"
    }
   ],
   "source": [
    "z = y.mean()\n",
    "z"
   ]
  },
  {
   "cell_type": "markdown",
   "metadata": {
    "id": "LCwsLU-m1nir"
   },
   "source": [
    "Again, we can check out how `z` was created, with a `Mean` operation."
   ]
  },
  {
   "cell_type": "code",
   "execution_count": 6,
   "metadata": {
    "colab": {
     "base_uri": "https://localhost:8080/"
    },
    "executionInfo": {
     "elapsed": 4,
     "status": "ok",
     "timestamp": 1646857584886,
     "user": {
      "displayName": "Saeed Saadatnejad",
      "photoUrl": "https://lh3.googleusercontent.com/a-/AOh14GgAqJtubhu0G3PplzJAC5kv4wVsgl6ly2SREwRl_g=s64",
      "userId": "14782386802635138309"
     },
     "user_tz": -60
    },
    "id": "T4dQtu_k1nis",
    "outputId": "ac2d4a8d-6e17-416d-c2ad-e1e55da1b1d9"
   },
   "outputs": [
    {
     "data": {
      "text/plain": [
       "<MeanBackward0 at 0x1c50d760d30>"
      ]
     },
     "execution_count": 6,
     "metadata": {},
     "output_type": "execute_result"
    }
   ],
   "source": [
    "z.grad_fn"
   ]
  },
  {
   "cell_type": "markdown",
   "metadata": {
    "id": "KO50t4Cc1nit"
   },
   "source": [
    "Since we haven't performed a backward pass, `x` doesn't have a gradient yet."
   ]
  },
  {
   "cell_type": "code",
   "execution_count": 7,
   "metadata": {
    "executionInfo": {
     "elapsed": 3,
     "status": "ok",
     "timestamp": 1646857585333,
     "user": {
      "displayName": "Saeed Saadatnejad",
      "photoUrl": "https://lh3.googleusercontent.com/a-/AOh14GgAqJtubhu0G3PplzJAC5kv4wVsgl6ly2SREwRl_g=s64",
      "userId": "14782386802635138309"
     },
     "user_tz": -60
    },
    "id": "dVNQAZA71niu"
   },
   "outputs": [],
   "source": [
    "x.grad"
   ]
  },
  {
   "cell_type": "markdown",
   "metadata": {
    "id": "qwOqwap_1niu"
   },
   "source": [
    "Now we can calculate the gradients of `z` with respect to `x` with `z.backward()`."
   ]
  },
  {
   "cell_type": "code",
   "execution_count": 8,
   "metadata": {
    "colab": {
     "base_uri": "https://localhost:8080/"
    },
    "executionInfo": {
     "elapsed": 4,
     "status": "ok",
     "timestamp": 1646857585890,
     "user": {
      "displayName": "Saeed Saadatnejad",
      "photoUrl": "https://lh3.googleusercontent.com/a-/AOh14GgAqJtubhu0G3PplzJAC5kv4wVsgl6ly2SREwRl_g=s64",
      "userId": "14782386802635138309"
     },
     "user_tz": -60
    },
    "id": "TxCulLCj1niv",
    "outputId": "f91e7b35-7508-4a3e-f231-d0ac489569f5"
   },
   "outputs": [
    {
     "data": {
      "text/plain": [
       "tensor([[3., 3.],\n",
       "        [3., 3.]])"
      ]
     },
     "execution_count": 8,
     "metadata": {},
     "output_type": "execute_result"
    }
   ],
   "source": [
    "z.backward()\n",
    "x.grad"
   ]
  },
  {
   "cell_type": "markdown",
   "metadata": {
    "id": "xOY1OT2p1niw"
   },
   "source": [
    "These gradients calculations are particularly useful for neural networks. For training we need the gradients of the weights with respect to the cost. With PyTorch, we run data forward through the network to calculate the cost, then, go backwards to calculate the gradients with respect to the cost. Once we have the gradients we can make a gradient descent step. "
   ]
  },
  {
   "cell_type": "markdown",
   "metadata": {
    "id": "BgUNqTsA1niw"
   },
   "source": [
    "## Training the network!\n",
    "\n",
    "The first thing we need to do for training is define our loss function. In PyTorch, you'll usually see this as `criterion`. Here we're using softmax output, so we want to use `criterion = nn.CrossEntropyLoss()` as our loss. Later when training, you use `loss = criterion(output, targets)` to calculate the actual loss.\n",
    "\n",
    "We also need to define the optimizer we're using, SGD or Adam, or something along those lines. Here I'll just use SGD with `torch.optim.SGD`, passing in the network parameters and the learning rate."
   ]
  },
  {
   "cell_type": "code",
   "execution_count": 9,
   "metadata": {
    "colab": {
     "base_uri": "https://localhost:8080/",
     "height": 423,
     "referenced_widgets": [
      "3c4952dff30a45fc800b5891f757af40",
      "a3c8b0433c9549189b3721a6773b1b3e",
      "51883c3672054cceab4485b675862751",
      "e03c33448bde4bb78a20f0dd35352501",
      "c5539a8f15144bfcb5792e016c15a08d",
      "a563a0d7c3494449aa221fa6dde113eb",
      "a3e54377dd2c491fbbdddb3092ef99c3",
      "06a96761d54e4deda8135790829ff445",
      "8ec445c50bee4f8fa200e69da32bc588",
      "a70a3e4781414f83bf460b90f849dcff",
      "e587950b1479471bb2333bc93412c800",
      "77f3a2e650704abd9f4380f0aecae749",
      "9a342f8fd5cf414cae449dc43aed436f",
      "a6361cf0699d43afa6e4fce7d6d6b2d6",
      "12ba4a56d175497fad6a3a37a4f4d7a7",
      "086a73116f55420287179c009d18d146",
      "6b7ecc66699543fcad0cb109364aec31",
      "a965e8fe73a04a488b9192d02e5e421c",
      "aa9a690a0dc847d482dad4acdcb0b466",
      "137180b65c4d4223a01b5e80e9a8d254",
      "db50c3b5319545b29b5dce820ac09f83",
      "ba7e0c5b030e4b2eb443610979d27e22",
      "645e2532d1524370a6d697d0e44a67ff",
      "83750dfe88984ba886b4083705bb567a",
      "b31f0e92ac7d49519179e2f019dff296",
      "ce0d45367c71427bbc35ee5191d89947",
      "2dd29eae5f5a4033b504e91a3cf46e3f",
      "5f706a09566b450dab8b6c7e82c54870",
      "46805e6e51d24c27aece53c7ec5d4048",
      "4e88d8cbc9694bb69f1cf9cf91efe4fd",
      "41893758689e43fbbc1e2843e552cc14",
      "4d5e5fe1a20841fcae1bbad1614223f2",
      "d05eac609b80425c8864668793e67860",
      "558ed66422964154835f736ba7eebe7c",
      "527f1e076fab4a3eb3fc126406e8b718",
      "be476d4de072487d87c878b23058641c",
      "cdb19b01567a4a43a9ff02966f24b042",
      "c851de7da3724c489baae266baacc637",
      "6a289e41f3284e04b5d0a2a958ae4359",
      "180a3f0bd0424459a828cede5d8e1197",
      "cb838f2acabe40a287584ef722ff9271",
      "2dd34329ff5342b1abc143105252cdb3",
      "f8b6f6f556c04149a3c635a285e1e732",
      "55cf70a1b94145a287d610301f30f3d2"
     ]
    },
    "executionInfo": {
     "elapsed": 1951,
     "status": "ok",
     "timestamp": 1646857588551,
     "user": {
      "displayName": "Saeed Saadatnejad",
      "photoUrl": "https://lh3.googleusercontent.com/a-/AOh14GgAqJtubhu0G3PplzJAC5kv4wVsgl6ly2SREwRl_g=s64",
      "userId": "14782386802635138309"
     },
     "user_tz": -60
    },
    "id": "3GmfqhZ21nix",
    "outputId": "9673d55c-465e-4476-f919-8230f4a822f2"
   },
   "outputs": [],
   "source": [
    "from torchvision import datasets, transforms\n",
    "\n",
    "# Define a transform to normalize the data\n",
    "transform = transforms.Compose([transforms.ToTensor(),\n",
    "                              transforms.Normalize((0.5,), (0.5,)),\n",
    "                             ])\n",
    "# Download and load the training data\n",
    "trainset = datasets.MNIST('MNIST_data/', download=True, train=True, transform=transform)\n",
    "trainloader = torch.utils.data.DataLoader(trainset, batch_size=64, shuffle=True)\n",
    "\n",
    "# Download and load the test data\n",
    "testset = datasets.MNIST('MNIST_data/', download=True, train=False, transform=transform)\n",
    "testloader = torch.utils.data.DataLoader(testset, batch_size=64, shuffle=True)"
   ]
  },
  {
   "cell_type": "code",
   "execution_count": 10,
   "metadata": {
    "executionInfo": {
     "elapsed": 9,
     "status": "ok",
     "timestamp": 1646857588551,
     "user": {
      "displayName": "Saeed Saadatnejad",
      "photoUrl": "https://lh3.googleusercontent.com/a-/AOh14GgAqJtubhu0G3PplzJAC5kv4wVsgl6ly2SREwRl_g=s64",
      "userId": "14782386802635138309"
     },
     "user_tz": -60
    },
    "id": "qFd1p8Eh1nix"
   },
   "outputs": [],
   "source": [
    "class Network(nn.Module):\n",
    "    def __init__(self):\n",
    "        super().__init__()\n",
    "        # Defining the layers, 200, 50, 10 units each\n",
    "        self.fc1 = nn.Linear(784, 200)\n",
    "        self.fc2 = nn.Linear(200, 50)\n",
    "        # Output layer, 10 units - one for each digit\n",
    "        self.fc3 = nn.Linear(50, 10)\n",
    "        \n",
    "    def forward(self, x):\n",
    "        ''' Forward pass through the network, returns the output logits '''\n",
    "        \n",
    "        x = self.fc1(x)\n",
    "        x = F.relu(x)\n",
    "        x = self.fc2(x)\n",
    "        x = F.relu(x)\n",
    "        x = self.fc3(x)\n",
    "        \n",
    "        return x\n",
    "    \n",
    "    def predict(self, x):\n",
    "        ''' This function for predicts classes by calculating the softmax '''\n",
    "        logits = self.forward(x)\n",
    "        return F.softmax(logits)"
   ]
  },
  {
   "cell_type": "code",
   "execution_count": 11,
   "metadata": {
    "executionInfo": {
     "elapsed": 9,
     "status": "ok",
     "timestamp": 1646857588552,
     "user": {
      "displayName": "Saeed Saadatnejad",
      "photoUrl": "https://lh3.googleusercontent.com/a-/AOh14GgAqJtubhu0G3PplzJAC5kv4wVsgl6ly2SREwRl_g=s64",
      "userId": "14782386802635138309"
     },
     "user_tz": -60
    },
    "id": "7wmxjctH1niy"
   },
   "outputs": [],
   "source": [
    "net = Network()\n",
    "criterion = nn.CrossEntropyLoss()\n",
    "optimizer = optim.SGD(net.parameters(), lr=0.01)"
   ]
  },
  {
   "cell_type": "markdown",
   "metadata": {
    "id": "ju3DMciX1niy"
   },
   "source": [
    "First, let's consider just one learning step before looping through all the data. The general process with PyTorch:\n",
    "\n",
    "* Make a forward pass through the network to get the logits \n",
    "* Use the logits to calculate the loss\n",
    "* Perform a backward pass through the network with `loss.backward()` to calculate the gradients\n",
    "* Take a step with the optimizer to update the weights\n",
    "\n",
    "Below I'll go through one training step and print out the weights and gradients so you can see how it changes."
   ]
  },
  {
   "cell_type": "code",
   "execution_count": 13,
   "metadata": {
    "colab": {
     "base_uri": "https://localhost:8080/"
    },
    "executionInfo": {
     "elapsed": 28,
     "status": "ok",
     "timestamp": 1646857589004,
     "user": {
      "displayName": "Saeed Saadatnejad",
      "photoUrl": "https://lh3.googleusercontent.com/a-/AOh14GgAqJtubhu0G3PplzJAC5kv4wVsgl6ly2SREwRl_g=s64",
      "userId": "14782386802635138309"
     },
     "user_tz": -60
    },
    "id": "TYatBFEm1niz",
    "outputId": "15e4e247-b4ec-4d19-d58e-d260670f1eaa"
   },
   "outputs": [
    {
     "name": "stdout",
     "output_type": "stream",
     "text": [
      "Initial weights -  Parameter containing:\n",
      "tensor([[ 1.9406e-02, -2.5781e-03,  3.1456e-02,  ...,  3.1045e-02,\n",
      "          7.4994e-03,  3.2150e-02],\n",
      "        [-6.1218e-03,  2.8494e-02, -9.4885e-03,  ..., -1.3287e-02,\n",
      "          3.0322e-02, -6.6968e-03],\n",
      "        [-1.6082e-02,  3.2310e-02,  2.8154e-02,  ..., -3.2932e-02,\n",
      "          6.8662e-03,  5.3125e-03],\n",
      "        ...,\n",
      "        [ 2.5638e-02,  2.1252e-03,  2.3542e-02,  ...,  3.4582e-02,\n",
      "          3.2481e-02, -2.9163e-02],\n",
      "        [ 1.2964e-02, -6.3755e-05,  7.7390e-03,  ...,  3.4160e-02,\n",
      "         -3.5233e-02, -2.1164e-02],\n",
      "        [ 5.2037e-03, -3.3662e-02,  2.4151e-02,  ..., -3.4042e-02,\n",
      "          2.7817e-02,  1.4258e-02]], requires_grad=True)\n",
      "Gradient - tensor([[ 0.0006,  0.0006,  0.0006,  ...,  0.0006,  0.0006,  0.0006],\n",
      "        [-0.0001, -0.0001, -0.0001,  ..., -0.0001, -0.0001, -0.0001],\n",
      "        [ 0.0018,  0.0018,  0.0018,  ...,  0.0018,  0.0018,  0.0018],\n",
      "        ...,\n",
      "        [-0.0009, -0.0009, -0.0009,  ..., -0.0009, -0.0009, -0.0009],\n",
      "        [-0.0018, -0.0018, -0.0018,  ..., -0.0018, -0.0018, -0.0018],\n",
      "        [ 0.0004,  0.0004,  0.0004,  ...,  0.0004,  0.0004,  0.0004]])\n"
     ]
    }
   ],
   "source": [
    "print('Initial weights - ', net.fc1.weight)\n",
    "\n",
    "dataiter = iter(trainloader)\n",
    "inputs, targets = next(dataiter)\n",
    "\n",
    "inputs.resize_(64, 784)\n",
    "\n",
    "# Clear the gradients from all Tensors\n",
    "optimizer.zero_grad()\n",
    "\n",
    "# Forward pass, then backward pass, then update weights\n",
    "output = net.forward(inputs)\n",
    "loss = criterion(output, targets)\n",
    "loss.backward()\n",
    "print('Gradient -', net.fc1.weight.grad)\n",
    "optimizer.step()"
   ]
  },
  {
   "cell_type": "markdown",
   "metadata": {
    "id": "L6TwQpzT1niz"
   },
   "source": [
    "We will output the updated weights that are updated using SGD with learning rate (0.01). Since both the learning rate and gradients are small, the changes of the weights might not be drastic"
   ]
  },
  {
   "cell_type": "code",
   "execution_count": 14,
   "metadata": {
    "colab": {
     "base_uri": "https://localhost:8080/"
    },
    "executionInfo": {
     "elapsed": 26,
     "status": "ok",
     "timestamp": 1646857589005,
     "user": {
      "displayName": "Saeed Saadatnejad",
      "photoUrl": "https://lh3.googleusercontent.com/a-/AOh14GgAqJtubhu0G3PplzJAC5kv4wVsgl6ly2SREwRl_g=s64",
      "userId": "14782386802635138309"
     },
     "user_tz": -60
    },
    "id": "0fYxVY5r1ni0",
    "outputId": "11c1a24c-72d2-4548-d06e-531c8ce8df06"
   },
   "outputs": [
    {
     "name": "stdout",
     "output_type": "stream",
     "text": [
      "Updated weights -  Parameter containing:\n",
      "tensor([[ 1.9400e-02, -2.5845e-03,  3.1450e-02,  ...,  3.1039e-02,\n",
      "          7.4930e-03,  3.2144e-02],\n",
      "        [-6.1205e-03,  2.8495e-02, -9.4872e-03,  ..., -1.3285e-02,\n",
      "          3.0324e-02, -6.6955e-03],\n",
      "        [-1.6101e-02,  3.2292e-02,  2.8135e-02,  ..., -3.2950e-02,\n",
      "          6.8477e-03,  5.2940e-03],\n",
      "        ...,\n",
      "        [ 2.5647e-02,  2.1338e-03,  2.3551e-02,  ...,  3.4591e-02,\n",
      "          3.2490e-02, -2.9155e-02],\n",
      "        [ 1.2982e-02, -4.5351e-05,  7.7574e-03,  ...,  3.4178e-02,\n",
      "         -3.5215e-02, -2.1146e-02],\n",
      "        [ 5.1998e-03, -3.3666e-02,  2.4147e-02,  ..., -3.4046e-02,\n",
      "          2.7813e-02,  1.4254e-02]], requires_grad=True)\n"
     ]
    }
   ],
   "source": [
    "print('Updated weights - ', net.fc1.weight)"
   ]
  },
  {
   "cell_type": "markdown",
   "metadata": {
    "id": "9FgO-0kR1ni0"
   },
   "source": [
    "### Training for real\n",
    "\n",
    "Now we'll put this algorithm into a loop so we can go through all the images. This is fairly straightforward. We'll loop through the mini-batches in our dataset, pass the data through the network to calculate the losses, get the gradients, then run the optimizer"
   ]
  },
  {
   "cell_type": "code",
   "execution_count": 15,
   "metadata": {
    "executionInfo": {
     "elapsed": 24,
     "status": "ok",
     "timestamp": 1646857589006,
     "user": {
      "displayName": "Saeed Saadatnejad",
      "photoUrl": "https://lh3.googleusercontent.com/a-/AOh14GgAqJtubhu0G3PplzJAC5kv4wVsgl6ly2SREwRl_g=s64",
      "userId": "14782386802635138309"
     },
     "user_tz": -60
    },
    "id": "rpVj0Zwp1ni0"
   },
   "outputs": [],
   "source": [
    "net = Network()\n",
    "optimizer = optim.Adam(net.parameters(), lr=0.001)"
   ]
  },
  {
   "cell_type": "code",
   "execution_count": 16,
   "metadata": {
    "colab": {
     "base_uri": "https://localhost:8080/",
     "height": 433
    },
    "executionInfo": {
     "elapsed": 5164,
     "status": "error",
     "timestamp": 1646857594147,
     "user": {
      "displayName": "Saeed Saadatnejad",
      "photoUrl": "https://lh3.googleusercontent.com/a-/AOh14GgAqJtubhu0G3PplzJAC5kv4wVsgl6ly2SREwRl_g=s64",
      "userId": "14782386802635138309"
     },
     "user_tz": -60
    },
    "id": "W1uMpUjs1ni1",
    "outputId": "72e554a3-6b87-4e59-9824-15e86e76ff79"
   },
   "outputs": [
    {
     "name": "stderr",
     "output_type": "stream",
     "text": [
      "C:\\Users\\floam\\AppData\\Local\\Temp\\ipykernel_15264\\2427501245.py:24: UserWarning: Implicit dimension choice for softmax has been deprecated. Change the call to include dim=X as an argument.\n",
      "  return F.softmax(logits)\n"
     ]
    },
    {
     "name": "stdout",
     "output_type": "stream",
     "text": [
      "Epoch: 1/1 Loss: 2.1505 Test accuracy: 0.4698\n",
      "Epoch: 1/1 Loss: 1.6870 Test accuracy: 0.5992\n",
      "Epoch: 1/1 Loss: 1.2706 Test accuracy: 0.6980\n",
      "Epoch: 1/1 Loss: 0.9975 Test accuracy: 0.7233\n",
      "Epoch: 1/1 Loss: 0.8722 Test accuracy: 0.7699\n",
      "Epoch: 1/1 Loss: 0.7296 Test accuracy: 0.8001\n",
      "Epoch: 1/1 Loss: 0.6667 Test accuracy: 0.8247\n",
      "Epoch: 1/1 Loss: 0.6302 Test accuracy: 0.8283\n",
      "Epoch: 1/1 Loss: 0.5557 Test accuracy: 0.8608\n",
      "Epoch: 1/1 Loss: 0.4121 Test accuracy: 0.8664\n",
      "Epoch: 1/1 Loss: 0.5251 Test accuracy: 0.8682\n",
      "Epoch: 1/1 Loss: 0.5210 Test accuracy: 0.8814\n",
      "Epoch: 1/1 Loss: 0.5560 Test accuracy: 0.8858\n",
      "Epoch: 1/1 Loss: 0.4362 Test accuracy: 0.8840\n",
      "Epoch: 1/1 Loss: 0.4588 Test accuracy: 0.8683\n",
      "Epoch: 1/1 Loss: 0.4154 Test accuracy: 0.8927\n",
      "Epoch: 1/1 Loss: 0.3755 Test accuracy: 0.8829\n",
      "Epoch: 1/1 Loss: 0.3749 Test accuracy: 0.8902\n",
      "Epoch: 1/1 Loss: 0.3605 Test accuracy: 0.8804\n",
      "Epoch: 1/1 Loss: 0.3603 Test accuracy: 0.8974\n",
      "Epoch: 1/1 Loss: 0.3908 Test accuracy: 0.8948\n",
      "Epoch: 1/1 Loss: 0.3930 Test accuracy: 0.8979\n",
      "Epoch: 1/1 Loss: 0.4349 Test accuracy: 0.8991\n",
      "Epoch: 1/1 Loss: 0.3844 Test accuracy: 0.8741\n",
      "Epoch: 1/1 Loss: 0.3733 Test accuracy: 0.8853\n",
      "Epoch: 1/1 Loss: 0.3613 Test accuracy: 0.9041\n",
      "Epoch: 1/1 Loss: 0.4168 Test accuracy: 0.8966\n",
      "Epoch: 1/1 Loss: 0.4226 Test accuracy: 0.8987\n",
      "Epoch: 1/1 Loss: 0.3540 Test accuracy: 0.8908\n",
      "Epoch: 1/1 Loss: 0.3847 Test accuracy: 0.8924\n",
      "Epoch: 1/1 Loss: 0.3428 Test accuracy: 0.8934\n",
      "Epoch: 1/1 Loss: 0.3991 Test accuracy: 0.8979\n",
      "Epoch: 1/1 Loss: 0.3404 Test accuracy: 0.9102\n",
      "Epoch: 1/1 Loss: 0.2347 Test accuracy: 0.9101\n",
      "Epoch: 1/1 Loss: 0.3213 Test accuracy: 0.9091\n",
      "Epoch: 1/1 Loss: 0.3247 Test accuracy: 0.8796\n",
      "Epoch: 1/1 Loss: 0.3524 Test accuracy: 0.9036\n",
      "Epoch: 1/1 Loss: 0.3594 Test accuracy: 0.9026\n",
      "Epoch: 1/1 Loss: 0.3041 Test accuracy: 0.9037\n",
      "Epoch: 1/1 Loss: 0.3534 Test accuracy: 0.9007\n",
      "Epoch: 1/1 Loss: 0.3943 Test accuracy: 0.9039\n",
      "Epoch: 1/1 Loss: 0.3645 Test accuracy: 0.8965\n",
      "Epoch: 1/1 Loss: 0.3633 Test accuracy: 0.8972\n",
      "Epoch: 1/1 Loss: 0.3941 Test accuracy: 0.9130\n",
      "Epoch: 1/1 Loss: 0.3338 Test accuracy: 0.9156\n",
      "Epoch: 1/1 Loss: 0.3782 Test accuracy: 0.9134\n",
      "Epoch: 1/1 Loss: 0.3269 Test accuracy: 0.9091\n",
      "Epoch: 1/1 Loss: 0.3581 Test accuracy: 0.9057\n",
      "Epoch: 1/1 Loss: 0.3025 Test accuracy: 0.9115\n",
      "Epoch: 1/1 Loss: 0.2579 Test accuracy: 0.9128\n",
      "Epoch: 1/1 Loss: 0.2360 Test accuracy: 0.9166\n",
      "Epoch: 1/1 Loss: 0.2851 Test accuracy: 0.9214\n",
      "Epoch: 1/1 Loss: 0.3087 Test accuracy: 0.9140\n",
      "Epoch: 1/1 Loss: 0.2861 Test accuracy: 0.9097\n",
      "Epoch: 1/1 Loss: 0.3356 Test accuracy: 0.9077\n",
      "Epoch: 1/1 Loss: 0.3278 Test accuracy: 0.9061\n",
      "Epoch: 1/1 Loss: 0.3140 Test accuracy: 0.9141\n",
      "Epoch: 1/1 Loss: 0.3350 Test accuracy: 0.9182\n",
      "Epoch: 1/1 Loss: 0.3142 Test accuracy: 0.9112\n",
      "Epoch: 1/1 Loss: 0.3265 Test accuracy: 0.9196\n",
      "Epoch: 1/1 Loss: 0.2426 Test accuracy: 0.9134\n",
      "Epoch: 1/1 Loss: 0.3776 Test accuracy: 0.9163\n",
      "Epoch: 1/1 Loss: 0.3189 Test accuracy: 0.9256\n",
      "Epoch: 1/1 Loss: 0.2782 Test accuracy: 0.9201\n",
      "Epoch: 1/1 Loss: 0.2600 Test accuracy: 0.9129\n",
      "Epoch: 1/1 Loss: 0.1849 Test accuracy: 0.9091\n",
      "Epoch: 1/1 Loss: 0.2762 Test accuracy: 0.9150\n",
      "Epoch: 1/1 Loss: 0.2666 Test accuracy: 0.9284\n",
      "Epoch: 1/1 Loss: 0.3193 Test accuracy: 0.9221\n",
      "Epoch: 1/1 Loss: 0.2533 Test accuracy: 0.9254\n",
      "Epoch: 1/1 Loss: 0.3033 Test accuracy: 0.9295\n",
      "Epoch: 1/1 Loss: 0.3042 Test accuracy: 0.9302\n",
      "Epoch: 1/1 Loss: 0.2417 Test accuracy: 0.9260\n",
      "Epoch: 1/1 Loss: 0.2462 Test accuracy: 0.9191\n",
      "Epoch: 1/1 Loss: 0.3366 Test accuracy: 0.9285\n",
      "Epoch: 1/1 Loss: 0.2729 Test accuracy: 0.9276\n",
      "Epoch: 1/1 Loss: 0.2468 Test accuracy: 0.9299\n",
      "Epoch: 1/1 Loss: 0.2009 Test accuracy: 0.9305\n",
      "Epoch: 1/1 Loss: 0.3087 Test accuracy: 0.9240\n",
      "Epoch: 1/1 Loss: 0.2848 Test accuracy: 0.9314\n",
      "Epoch: 1/1 Loss: 0.2679 Test accuracy: 0.9295\n",
      "Epoch: 1/1 Loss: 0.2660 Test accuracy: 0.9295\n",
      "Epoch: 1/1 Loss: 0.2524 Test accuracy: 0.9300\n",
      "Epoch: 1/1 Loss: 0.2379 Test accuracy: 0.9359\n",
      "Epoch: 1/1 Loss: 0.3047 Test accuracy: 0.9250\n",
      "Epoch: 1/1 Loss: 0.2309 Test accuracy: 0.9242\n",
      "Epoch: 1/1 Loss: 0.2800 Test accuracy: 0.9284\n",
      "Epoch: 1/1 Loss: 0.1892 Test accuracy: 0.9365\n",
      "Epoch: 1/1 Loss: 0.2430 Test accuracy: 0.9274\n",
      "Epoch: 1/1 Loss: 0.1812 Test accuracy: 0.9336\n",
      "Epoch: 1/1 Loss: 0.2262 Test accuracy: 0.9287\n",
      "Epoch: 1/1 Loss: 0.2009 Test accuracy: 0.9290\n",
      "Epoch: 1/1 Loss: 0.2646 Test accuracy: 0.9278\n"
     ]
    }
   ],
   "source": [
    "epochs = 1\n",
    "steps = 0\n",
    "running_loss = 0\n",
    "print_every = 10\n",
    "for e in range(epochs):\n",
    "    for inputs, targets in iter(trainloader):\n",
    "        steps += 1\n",
    "        # Flatten MNIST images into a 784 long vector\n",
    "        inputs.resize_(inputs.size()[0], 784)\n",
    "\n",
    "        optimizer.zero_grad()\n",
    "        \n",
    "        output = net(inputs)\n",
    "        loss = criterion(output, targets)\n",
    "        loss.backward()\n",
    "        optimizer.step()\n",
    "        \n",
    "        running_loss += loss.item()\n",
    "        \n",
    "        if steps % print_every == 0:\n",
    "            # Test accuracy\n",
    "            accuracy = 0\n",
    "            for ii, (inputs, targets) in enumerate(testloader):\n",
    "                \n",
    "                inputs = inputs.resize_(inputs.size()[0], 784)\n",
    "                \n",
    "                predicted = net.predict(inputs).data\n",
    "                equality = (targets == predicted.max(1)[1])\n",
    "                accuracy += equality.type_as(torch.FloatTensor()).mean()\n",
    "            \n",
    "            print(\"Epoch: {}/{}\".format(e+1, epochs),\n",
    "                  \"Loss: {:.4f}\".format(running_loss/print_every),\n",
    "                  \"Test accuracy: {:.4f}\".format(accuracy/(ii+1)))\n",
    "            running_loss = 0"
   ]
  },
  {
   "cell_type": "code",
   "execution_count": 18,
   "metadata": {
    "executionInfo": {
     "elapsed": 278,
     "status": "ok",
     "timestamp": 1646857598094,
     "user": {
      "displayName": "Saeed Saadatnejad",
      "photoUrl": "https://lh3.googleusercontent.com/a-/AOh14GgAqJtubhu0G3PplzJAC5kv4wVsgl6ly2SREwRl_g=s64",
      "userId": "14782386802635138309"
     },
     "user_tz": -60
    },
    "id": "jbS3VMA91ni1"
   },
   "outputs": [],
   "source": [
    "dataiter = iter(testloader)\n",
    "inputs, targets = next(dataiter)"
   ]
  },
  {
   "cell_type": "markdown",
   "metadata": {
    "id": "sq1hHDrYWzkj"
   },
   "source": [
    "For a better visualization, we define the following function"
   ]
  },
  {
   "cell_type": "code",
   "execution_count": 19,
   "metadata": {
    "executionInfo": {
     "elapsed": 326,
     "status": "ok",
     "timestamp": 1646857600361,
     "user": {
      "displayName": "Saeed Saadatnejad",
      "photoUrl": "https://lh3.googleusercontent.com/a-/AOh14GgAqJtubhu0G3PplzJAC5kv4wVsgl6ly2SREwRl_g=s64",
      "userId": "14782386802635138309"
     },
     "user_tz": -60
    },
    "id": "HcABXFqHWxSo"
   },
   "outputs": [],
   "source": [
    "def view_classify(img, ps):\n",
    "    ''' Function for viewing an image and it's predicted classes.\n",
    "    '''\n",
    "    ps = ps.data.numpy().squeeze()\n",
    "\n",
    "    fig, (ax1, ax2) = plt.subplots(figsize=(6,7), ncols=2)\n",
    "    ax1.imshow(img.numpy().squeeze())\n",
    "    ax1.axis('off')\n",
    "    ax2.barh(np.arange(10), ps)\n",
    "    ax2.set_aspect(0.1)\n",
    "    ax2.set_yticks(np.arange(10))\n",
    "    ax2.set_yticklabels(np.arange(10).astype(int), size='large');\n",
    "    ax2.set_title('Digit Probability')\n",
    "    ax2.set_xlim(0, 1.1)"
   ]
  },
  {
   "cell_type": "code",
   "execution_count": 34,
   "metadata": {
    "colab": {
     "base_uri": "https://localhost:8080/",
     "height": 229
    },
    "executionInfo": {
     "elapsed": 924,
     "status": "ok",
     "timestamp": 1646857637451,
     "user": {
      "displayName": "Saeed Saadatnejad",
      "photoUrl": "https://lh3.googleusercontent.com/a-/AOh14GgAqJtubhu0G3PplzJAC5kv4wVsgl6ly2SREwRl_g=s64",
      "userId": "14782386802635138309"
     },
     "user_tz": -60
    },
    "id": "CT9fBgBm1ni2",
    "outputId": "33e7a5c6-5c14-4cd0-9517-55bd302c2e00"
   },
   "outputs": [
    {
     "name": "stderr",
     "output_type": "stream",
     "text": [
      "C:\\Users\\floam\\AppData\\Local\\Temp\\ipykernel_15264\\2427501245.py:24: UserWarning: Implicit dimension choice for softmax has been deprecated. Change the call to include dim=X as an argument.\n",
      "  return F.softmax(logits)\n"
     ]
    },
    {
     "data": {
      "image/png": "[encoded data removed]",
      "text/plain": [
       "<Figure size 600x700 with 2 Axes>"
      ]
     },
     "metadata": {
      "image/png": {
       "height": 272,
       "width": 484
      }
     },
     "output_type": "display_data"
    }
   ],
   "source": [
    "import random\n",
    "img = inputs[random.randint(0,64)]\n",
    "ps = net.predict(img.resize_(1, 784))\n",
    "view_classify(img.resize_(1, 28, 28), ps)"
   ]
  },
  {
   "cell_type": "code",
   "execution_count": null,
   "metadata": {
    "executionInfo": {
     "elapsed": 9,
     "status": "aborted",
     "timestamp": 1646857594146,
     "user": {
      "displayName": "Saeed Saadatnejad",
      "photoUrl": "https://lh3.googleusercontent.com/a-/AOh14GgAqJtubhu0G3PplzJAC5kv4wVsgl6ly2SREwRl_g=s64",
      "userId": "14782386802635138309"
     },
     "user_tz": -60
    },
    "id": "icBOT38z1ni2"
   },
   "outputs": [],
   "source": []
  }
 ],
 "metadata": {
  "colab": {
   "collapsed_sections": [],
   "name": "Tutorial 2.ipynb",
   "provenance": []
  },
  "kernelspec": {
   "display_name": "Python 3",
   "language": "python",
   "name": "python3"
  },
  "language_info": {
   "codemirror_mode": {
    "name": "ipython",
    "version": 3
   },
   "file_extension": ".py",
   "mimetype": "text/x-python",
   "name": "python",
   "nbconvert_exporter": "python",
   "pygments_lexer": "ipython3",
   "version": "3.13.0"
  },
  "nteract": {
   "version": "0.12.3"
  },
  "widgets": {
   "application/vnd.jupyter.widget-state+json": {
    "06a96761d54e4deda8135790829ff445": {
     "model_module": "@jupyter-widgets/controls",
     "model_module_version": "1.5.0",
     "model_name": "ProgressStyleModel",
     "state": {
      "_model_module": "@jupyter-widgets/controls",
      "_model_module_version": "1.5.0",
      "_model_name": "ProgressStyleModel",
      "_view_count": null,
      "_view_module": "@jupyter-widgets/base",
      "_view_module_version": "1.2.0",
      "_view_name": "StyleView",
      "bar_color": null,
      "description_width": ""
     }
    },
    "086a73116f55420287179c009d18d146": {
     "model_module": "@jupyter-widgets/controls",
     "model_module_version": "1.5.0",
     "model_name": "HTMLModel",
     "state": {
      "_dom_classes": [],
      "_model_module": "@jupyter-widgets/controls",
      "_model_module_version": "1.5.0",
      "_model_name": "HTMLModel",
      "_view_count": null,
      "_view_module": "@jupyter-widgets/controls",
      "_view_module_version": "1.5.0",
      "_view_name": "HTMLView",
      "description": "",
      "description_tooltip": null,
      "layout": "IPY_MODEL_ba7e0c5b030e4b2eb443610979d27e22",
      "placeholder": "​",
      "style": "IPY_MODEL_db50c3b5319545b29b5dce820ac09f83",
      "value": " 29696/? [00:00&lt;00:00, 557403.54it/s]"
     }
    },
    "12ba4a56d175497fad6a3a37a4f4d7a7": {
     "model_module": "@jupyter-widgets/controls",
     "model_module_version": "1.5.0",
     "model_name": "FloatProgressModel",
     "state": {
      "_dom_classes": [],
      "_model_module": "@jupyter-widgets/controls",
      "_model_module_version": "1.5.0",
      "_model_name": "FloatProgressModel",
      "_view_count": null,
      "_view_module": "@jupyter-widgets/controls",
      "_view_module_version": "1.5.0",
      "_view_name": "ProgressView",
      "bar_style": "success",
      "description": "",
      "description_tooltip": null,
      "layout": "IPY_MODEL_137180b65c4d4223a01b5e80e9a8d254",
      "max": 28881,
      "min": 0,
      "orientation": "horizontal",
      "style": "IPY_MODEL_aa9a690a0dc847d482dad4acdcb0b466",
      "value": 28881
     }
    },
    "137180b65c4d4223a01b5e80e9a8d254": {
     "model_module": "@jupyter-widgets/base",
     "model_module_version": "1.2.0",
     "model_name": "LayoutModel",
     "state": {
      "_model_module": "@jupyter-widgets/base",
      "_model_module_version": "1.2.0",
      "_model_name": "LayoutModel",
      "_view_count": null,
      "_view_module": "@jupyter-widgets/base",
      "_view_module_version": "1.2.0",
      "_view_name": "LayoutView",
      "align_content": null,
      "align_items": null,
      "align_self": null,
      "border": null,
      "bottom": null,
      "display": null,
      "flex": null,
      "flex_flow": null,
      "grid_area": null,
      "grid_auto_columns": null,
      "grid_auto_flow": null,
      "grid_auto_rows": null,
      "grid_column": null,
      "grid_gap": null,
      "grid_row": null,
      "grid_template_areas": null,
      "grid_template_columns": null,
      "grid_template_rows": null,
      "height": null,
      "justify_content": null,
      "justify_items": null,
      "left": null,
      "margin": null,
      "max_height": null,
      "max_width": null,
      "min_height": null,
      "min_width": null,
      "object_fit": null,
      "object_position": null,
      "order": null,
      "overflow": null,
      "overflow_x": null,
      "overflow_y": null,
      "padding": null,
      "right": null,
      "top": null,
      "visibility": null,
      "width": null
     }
    },
    "180a3f0bd0424459a828cede5d8e1197": {
     "model_module": "@jupyter-widgets/base",
     "model_module_version": "1.2.0",
     "model_name": "LayoutModel",
     "state": {
      "_model_module": "@jupyter-widgets/base",
      "_model_module_version": "1.2.0",
      "_model_name": "LayoutModel",
      "_view_count": null,
      "_view_module": "@jupyter-widgets/base",
      "_view_module_version": "1.2.0",
      "_view_name": "LayoutView",
      "align_content": null,
      "align_items": null,
      "align_self": null,
      "border": null,
      "bottom": null,
      "display": null,
      "flex": null,
      "flex_flow": null,
      "grid_area": null,
      "grid_auto_columns": null,
      "grid_auto_flow": null,
      "grid_auto_rows": null,
      "grid_column": null,
      "grid_gap": null,
      "grid_row": null,
      "grid_template_areas": null,
      "grid_template_columns": null,
      "grid_template_rows": null,
      "height": null,
      "justify_content": null,
      "justify_items": null,
      "left": null,
      "margin": null,
      "max_height": null,
      "max_width": null,
      "min_height": null,
      "min_width": null,
      "object_fit": null,
      "object_position": null,
      "order": null,
      "overflow": null,
      "overflow_x": null,
      "overflow_y": null,
      "padding": null,
      "right": null,
      "top": null,
      "visibility": null,
      "width": null
     }
    },
    "2dd29eae5f5a4033b504e91a3cf46e3f": {
     "model_module": "@jupyter-widgets/controls",
     "model_module_version": "1.5.0",
     "model_name": "HTMLModel",
     "state": {
      "_dom_classes": [],
      "_model_module": "@jupyter-widgets/controls",
      "_model_module_version": "1.5.0",
      "_model_name": "HTMLModel",
      "_view_count": null,
      "_view_module": "@jupyter-widgets/controls",
      "_view_module_version": "1.5.0",
      "_view_name": "HTMLView",
      "description": "",
      "description_tooltip": null,
      "layout": "IPY_MODEL_d05eac609b80425c8864668793e67860",
      "placeholder": "​",
      "style": "IPY_MODEL_4d5e5fe1a20841fcae1bbad1614223f2",
      "value": " 1649664/? [00:00&lt;00:00, 2961171.19it/s]"
     }
    },
    "2dd34329ff5342b1abc143105252cdb3": {
     "model_module": "@jupyter-widgets/base",
     "model_module_version": "1.2.0",
     "model_name": "LayoutModel",
     "state": {
      "_model_module": "@jupyter-widgets/base",
      "_model_module_version": "1.2.0",
      "_model_name": "LayoutModel",
      "_view_count": null,
      "_view_module": "@jupyter-widgets/base",
      "_view_module_version": "1.2.0",
      "_view_name": "LayoutView",
      "align_content": null,
      "align_items": null,
      "align_self": null,
      "border": null,
      "bottom": null,
      "display": null,
      "flex": null,
      "flex_flow": null,
      "grid_area": null,
      "grid_auto_columns": null,
      "grid_auto_flow": null,
      "grid_auto_rows": null,
      "grid_column": null,
      "grid_gap": null,
      "grid_row": null,
      "grid_template_areas": null,
      "grid_template_columns": null,
      "grid_template_rows": null,
      "height": null,
      "justify_content": null,
      "justify_items": null,
      "left": null,
      "margin": null,
      "max_height": null,
      "max_width": null,
      "min_height": null,
      "min_width": null,
      "object_fit": null,
      "object_position": null,
      "order": null,
      "overflow": null,
      "overflow_x": null,
      "overflow_y": null,
      "padding": null,
      "right": null,
      "top": null,
      "visibility": null,
      "width": null
     }
    },
    "3c4952dff30a45fc800b5891f757af40": {
     "model_module": "@jupyter-widgets/controls",
     "model_module_version": "1.5.0",
     "model_name": "HBoxModel",
     "state": {
      "_dom_classes": [],
      "_model_module": "@jupyter-widgets/controls",
      "_model_module_version": "1.5.0",
      "_model_name": "HBoxModel",
      "_view_count": null,
      "_view_module": "@jupyter-widgets/controls",
      "_view_module_version": "1.5.0",
      "_view_name": "HBoxView",
      "box_style": "",
      "children": [
       "IPY_MODEL_51883c3672054cceab4485b675862751",
       "IPY_MODEL_e03c33448bde4bb78a20f0dd35352501",
       "IPY_MODEL_c5539a8f15144bfcb5792e016c15a08d"
      ],
      "layout": "IPY_MODEL_a3c8b0433c9549189b3721a6773b1b3e"
     }
    },
    "41893758689e43fbbc1e2843e552cc14": {
     "model_module": "@jupyter-widgets/base",
     "model_module_version": "1.2.0",
     "model_name": "LayoutModel",
     "state": {
      "_model_module": "@jupyter-widgets/base",
      "_model_module_version": "1.2.0",
      "_model_name": "LayoutModel",
      "_view_count": null,
      "_view_module": "@jupyter-widgets/base",
      "_view_module_version": "1.2.0",
      "_view_name": "LayoutView",
      "align_content": null,
      "align_items": null,
      "align_self": null,
      "border": null,
      "bottom": null,
      "display": null,
      "flex": null,
      "flex_flow": null,
      "grid_area": null,
      "grid_auto_columns": null,
      "grid_auto_flow": null,
      "grid_auto_rows": null,
      "grid_column": null,
      "grid_gap": null,
      "grid_row": null,
      "grid_template_areas": null,
      "grid_template_columns": null,
      "grid_template_rows": null,
      "height": null,
      "justify_content": null,
      "justify_items": null,
      "left": null,
      "margin": null,
      "max_height": null,
      "max_width": null,
      "min_height": null,
      "min_width": null,
      "object_fit": null,
      "object_position": null,
      "order": null,
      "overflow": null,
      "overflow_x": null,
      "overflow_y": null,
      "padding": null,
      "right": null,
      "top": null,
      "visibility": null,
      "width": null
     }
    },
    "46805e6e51d24c27aece53c7ec5d4048": {
     "model_module": "@jupyter-widgets/base",
     "model_module_version": "1.2.0",
     "model_name": "LayoutModel",
     "state": {
      "_model_module": "@jupyter-widgets/base",
      "_model_module_version": "1.2.0",
      "_model_name": "LayoutModel",
      "_view_count": null,
      "_view_module": "@jupyter-widgets/base",
      "_view_module_version": "1.2.0",
      "_view_name": "LayoutView",
      "align_content": null,
      "align_items": null,
      "align_self": null,
      "border": null,
      "bottom": null,
      "display": null,
      "flex": null,
      "flex_flow": null,
      "grid_area": null,
      "grid_auto_columns": null,
      "grid_auto_flow": null,
      "grid_auto_rows": null,
      "grid_column": null,
      "grid_gap": null,
      "grid_row": null,
      "grid_template_areas": null,
      "grid_template_columns": null,
      "grid_template_rows": null,
      "height": null,
      "justify_content": null,
      "justify_items": null,
      "left": null,
      "margin": null,
      "max_height": null,
      "max_width": null,
      "min_height": null,
      "min_width": null,
      "object_fit": null,
      "object_position": null,
      "order": null,
      "overflow": null,
      "overflow_x": null,
      "overflow_y": null,
      "padding": null,
      "right": null,
      "top": null,
      "visibility": null,
      "width": null
     }
    },
    "4d5e5fe1a20841fcae1bbad1614223f2": {
     "model_module": "@jupyter-widgets/controls",
     "model_module_version": "1.5.0",
     "model_name": "DescriptionStyleModel",
     "state": {
      "_model_module": "@jupyter-widgets/controls",
      "_model_module_version": "1.5.0",
      "_model_name": "DescriptionStyleModel",
      "_view_count": null,
      "_view_module": "@jupyter-widgets/base",
      "_view_module_version": "1.2.0",
      "_view_name": "StyleView",
      "description_width": ""
     }
    },
    "4e88d8cbc9694bb69f1cf9cf91efe4fd": {
     "model_module": "@jupyter-widgets/controls",
     "model_module_version": "1.5.0",
     "model_name": "ProgressStyleModel",
     "state": {
      "_model_module": "@jupyter-widgets/controls",
      "_model_module_version": "1.5.0",
      "_model_name": "ProgressStyleModel",
      "_view_count": null,
      "_view_module": "@jupyter-widgets/base",
      "_view_module_version": "1.2.0",
      "_view_name": "StyleView",
      "bar_color": null,
      "description_width": ""
     }
    },
    "51883c3672054cceab4485b675862751": {
     "model_module": "@jupyter-widgets/controls",
     "model_module_version": "1.5.0",
     "model_name": "HTMLModel",
     "state": {
      "_dom_classes": [],
      "_model_module": "@jupyter-widgets/controls",
      "_model_module_version": "1.5.0",
      "_model_name": "HTMLModel",
      "_view_count": null,
      "_view_module": "@jupyter-widgets/controls",
      "_view_module_version": "1.5.0",
      "_view_name": "HTMLView",
      "description": "",
      "description_tooltip": null,
      "layout": "IPY_MODEL_a3e54377dd2c491fbbdddb3092ef99c3",
      "placeholder": "​",
      "style": "IPY_MODEL_a563a0d7c3494449aa221fa6dde113eb",
      "value": ""
     }
    },
    "527f1e076fab4a3eb3fc126406e8b718": {
     "model_module": "@jupyter-widgets/base",
     "model_module_version": "1.2.0",
     "model_name": "LayoutModel",
     "state": {
      "_model_module": "@jupyter-widgets/base",
      "_model_module_version": "1.2.0",
      "_model_name": "LayoutModel",
      "_view_count": null,
      "_view_module": "@jupyter-widgets/base",
      "_view_module_version": "1.2.0",
      "_view_name": "LayoutView",
      "align_content": null,
      "align_items": null,
      "align_self": null,
      "border": null,
      "bottom": null,
      "display": null,
      "flex": null,
      "flex_flow": null,
      "grid_area": null,
      "grid_auto_columns": null,
      "grid_auto_flow": null,
      "grid_auto_rows": null,
      "grid_column": null,
      "grid_gap": null,
      "grid_row": null,
      "grid_template_areas": null,
      "grid_template_columns": null,
      "grid_template_rows": null,
      "height": null,
      "justify_content": null,
      "justify_items": null,
      "left": null,
      "margin": null,
      "max_height": null,
      "max_width": null,
      "min_height": null,
      "min_width": null,
      "object_fit": null,
      "object_position": null,
      "order": null,
      "overflow": null,
      "overflow_x": null,
      "overflow_y": null,
      "padding": null,
      "right": null,
      "top": null,
      "visibility": null,
      "width": null
     }
    },
    "558ed66422964154835f736ba7eebe7c": {
     "model_module": "@jupyter-widgets/controls",
     "model_module_version": "1.5.0",
     "model_name": "HBoxModel",
     "state": {
      "_dom_classes": [],
      "_model_module": "@jupyter-widgets/controls",
      "_model_module_version": "1.5.0",
      "_model_name": "HBoxModel",
      "_view_count": null,
      "_view_module": "@jupyter-widgets/controls",
      "_view_module_version": "1.5.0",
      "_view_name": "HBoxView",
      "box_style": "",
      "children": [
       "IPY_MODEL_be476d4de072487d87c878b23058641c",
       "IPY_MODEL_cdb19b01567a4a43a9ff02966f24b042",
       "IPY_MODEL_c851de7da3724c489baae266baacc637"
      ],
      "layout": "IPY_MODEL_527f1e076fab4a3eb3fc126406e8b718"
     }
    },
    "55cf70a1b94145a287d610301f30f3d2": {
     "model_module": "@jupyter-widgets/base",
     "model_module_version": "1.2.0",
     "model_name": "LayoutModel",
     "state": {
      "_model_module": "@jupyter-widgets/base",
      "_model_module_version": "1.2.0",
      "_model_name": "LayoutModel",
      "_view_count": null,
      "_view_module": "@jupyter-widgets/base",
      "_view_module_version": "1.2.0",
      "_view_name": "LayoutView",
      "align_content": null,
      "align_items": null,
      "align_self": null,
      "border": null,
      "bottom": null,
      "display": null,
      "flex": null,
      "flex_flow": null,
      "grid_area": null,
      "grid_auto_columns": null,
      "grid_auto_flow": null,
      "grid_auto_rows": null,
      "grid_column": null,
      "grid_gap": null,
      "grid_row": null,
      "grid_template_areas": null,
      "grid_template_columns": null,
      "grid_template_rows": null,
      "height": null,
      "justify_content": null,
      "justify_items": null,
      "left": null,
      "margin": null,
      "max_height": null,
      "max_width": null,
      "min_height": null,
      "min_width": null,
      "object_fit": null,
      "object_position": null,
      "order": null,
      "overflow": null,
      "overflow_x": null,
      "overflow_y": null,
      "padding": null,
      "right": null,
      "top": null,
      "visibility": null,
      "width": null
     }
    },
    "5f706a09566b450dab8b6c7e82c54870": {
     "model_module": "@jupyter-widgets/controls",
     "model_module_version": "1.5.0",
     "model_name": "DescriptionStyleModel",
     "state": {
      "_model_module": "@jupyter-widgets/controls",
      "_model_module_version": "1.5.0",
      "_model_name": "DescriptionStyleModel",
      "_view_count": null,
      "_view_module": "@jupyter-widgets/base",
      "_view_module_version": "1.2.0",
      "_view_name": "StyleView",
      "description_width": ""
     }
    },
    "645e2532d1524370a6d697d0e44a67ff": {
     "model_module": "@jupyter-widgets/controls",
     "model_module_version": "1.5.0",
     "model_name": "HBoxModel",
     "state": {
      "_dom_classes": [],
      "_model_module": "@jupyter-widgets/controls",
      "_model_module_version": "1.5.0",
      "_model_name": "HBoxModel",
      "_view_count": null,
      "_view_module": "@jupyter-widgets/controls",
      "_view_module_version": "1.5.0",
      "_view_name": "HBoxView",
      "box_style": "",
      "children": [
       "IPY_MODEL_b31f0e92ac7d49519179e2f019dff296",
       "IPY_MODEL_ce0d45367c71427bbc35ee5191d89947",
       "IPY_MODEL_2dd29eae5f5a4033b504e91a3cf46e3f"
      ],
      "layout": "IPY_MODEL_83750dfe88984ba886b4083705bb567a"
     }
    },
    "6a289e41f3284e04b5d0a2a958ae4359": {
     "model_module": "@jupyter-widgets/controls",
     "model_module_version": "1.5.0",
     "model_name": "DescriptionStyleModel",
     "state": {
      "_model_module": "@jupyter-widgets/controls",
      "_model_module_version": "1.5.0",
      "_model_name": "DescriptionStyleModel",
      "_view_count": null,
      "_view_module": "@jupyter-widgets/base",
      "_view_module_version": "1.2.0",
      "_view_name": "StyleView",
      "description_width": ""
     }
    },
    "6b7ecc66699543fcad0cb109364aec31": {
     "model_module": "@jupyter-widgets/controls",
     "model_module_version": "1.5.0",
     "model_name": "DescriptionStyleModel",
     "state": {
      "_model_module": "@jupyter-widgets/controls",
      "_model_module_version": "1.5.0",
      "_model_name": "DescriptionStyleModel",
      "_view_count": null,
      "_view_module": "@jupyter-widgets/base",
      "_view_module_version": "1.2.0",
      "_view_name": "StyleView",
      "description_width": ""
     }
    },
    "77f3a2e650704abd9f4380f0aecae749": {
     "model_module": "@jupyter-widgets/controls",
     "model_module_version": "1.5.0",
     "model_name": "HBoxModel",
     "state": {
      "_dom_classes": [],
      "_model_module": "@jupyter-widgets/controls",
      "_model_module_version": "1.5.0",
      "_model_name": "HBoxModel",
      "_view_count": null,
      "_view_module": "@jupyter-widgets/controls",
      "_view_module_version": "1.5.0",
      "_view_name": "HBoxView",
      "box_style": "",
      "children": [
       "IPY_MODEL_a6361cf0699d43afa6e4fce7d6d6b2d6",
       "IPY_MODEL_12ba4a56d175497fad6a3a37a4f4d7a7",
       "IPY_MODEL_086a73116f55420287179c009d18d146"
      ],
      "layout": "IPY_MODEL_9a342f8fd5cf414cae449dc43aed436f"
     }
    },
    "83750dfe88984ba886b4083705bb567a": {
     "model_module": "@jupyter-widgets/base",
     "model_module_version": "1.2.0",
     "model_name": "LayoutModel",
     "state": {
      "_model_module": "@jupyter-widgets/base",
      "_model_module_version": "1.2.0",
      "_model_name": "LayoutModel",
      "_view_count": null,
      "_view_module": "@jupyter-widgets/base",
      "_view_module_version": "1.2.0",
      "_view_name": "LayoutView",
      "align_content": null,
      "align_items": null,
      "align_self": null,
      "border": null,
      "bottom": null,
      "display": null,
      "flex": null,
      "flex_flow": null,
      "grid_area": null,
      "grid_auto_columns": null,
      "grid_auto_flow": null,
      "grid_auto_rows": null,
      "grid_column": null,
      "grid_gap": null,
      "grid_row": null,
      "grid_template_areas": null,
      "grid_template_columns": null,
      "grid_template_rows": null,
      "height": null,
      "justify_content": null,
      "justify_items": null,
      "left": null,
      "margin": null,
      "max_height": null,
      "max_width": null,
      "min_height": null,
      "min_width": null,
      "object_fit": null,
      "object_position": null,
      "order": null,
      "overflow": null,
      "overflow_x": null,
      "overflow_y": null,
      "padding": null,
      "right": null,
      "top": null,
      "visibility": null,
      "width": null
     }
    },
    "8ec445c50bee4f8fa200e69da32bc588": {
     "model_module": "@jupyter-widgets/base",
     "model_module_version": "1.2.0",
     "model_name": "LayoutModel",
     "state": {
      "_model_module": "@jupyter-widgets/base",
      "_model_module_version": "1.2.0",
      "_model_name": "LayoutModel",
      "_view_count": null,
      "_view_module": "@jupyter-widgets/base",
      "_view_module_version": "1.2.0",
      "_view_name": "LayoutView",
      "align_content": null,
      "align_items": null,
      "align_self": null,
      "border": null,
      "bottom": null,
      "display": null,
      "flex": null,
      "flex_flow": null,
      "grid_area": null,
      "grid_auto_columns": null,
      "grid_auto_flow": null,
      "grid_auto_rows": null,
      "grid_column": null,
      "grid_gap": null,
      "grid_row": null,
      "grid_template_areas": null,
      "grid_template_columns": null,
      "grid_template_rows": null,
      "height": null,
      "justify_content": null,
      "justify_items": null,
      "left": null,
      "margin": null,
      "max_height": null,
      "max_width": null,
      "min_height": null,
      "min_width": null,
      "object_fit": null,
      "object_position": null,
      "order": null,
      "overflow": null,
      "overflow_x": null,
      "overflow_y": null,
      "padding": null,
      "right": null,
      "top": null,
      "visibility": null,
      "width": null
     }
    },
    "9a342f8fd5cf414cae449dc43aed436f": {
     "model_module": "@jupyter-widgets/base",
     "model_module_version": "1.2.0",
     "model_name": "LayoutModel",
     "state": {
      "_model_module": "@jupyter-widgets/base",
      "_model_module_version": "1.2.0",
      "_model_name": "LayoutModel",
      "_view_count": null,
      "_view_module": "@jupyter-widgets/base",
      "_view_module_version": "1.2.0",
      "_view_name": "LayoutView",
      "align_content": null,
      "align_items": null,
      "align_self": null,
      "border": null,
      "bottom": null,
      "display": null,
      "flex": null,
      "flex_flow": null,
      "grid_area": null,
      "grid_auto_columns": null,
      "grid_auto_flow": null,
      "grid_auto_rows": null,
      "grid_column": null,
      "grid_gap": null,
      "grid_row": null,
      "grid_template_areas": null,
      "grid_template_columns": null,
      "grid_template_rows": null,
      "height": null,
      "justify_content": null,
      "justify_items": null,
      "left": null,
      "margin": null,
      "max_height": null,
      "max_width": null,
      "min_height": null,
      "min_width": null,
      "object_fit": null,
      "object_position": null,
      "order": null,
      "overflow": null,
      "overflow_x": null,
      "overflow_y": null,
      "padding": null,
      "right": null,
      "top": null,
      "visibility": null,
      "width": null
     }
    },
    "a3c8b0433c9549189b3721a6773b1b3e": {
     "model_module": "@jupyter-widgets/base",
     "model_module_version": "1.2.0",
     "model_name": "LayoutModel",
     "state": {
      "_model_module": "@jupyter-widgets/base",
      "_model_module_version": "1.2.0",
      "_model_name": "LayoutModel",
      "_view_count": null,
      "_view_module": "@jupyter-widgets/base",
      "_view_module_version": "1.2.0",
      "_view_name": "LayoutView",
      "align_content": null,
      "align_items": null,
      "align_self": null,
      "border": null,
      "bottom": null,
      "display": null,
      "flex": null,
      "flex_flow": null,
      "grid_area": null,
      "grid_auto_columns": null,
      "grid_auto_flow": null,
      "grid_auto_rows": null,
      "grid_column": null,
      "grid_gap": null,
      "grid_row": null,
      "grid_template_areas": null,
      "grid_template_columns": null,
      "grid_template_rows": null,
      "height": null,
      "justify_content": null,
      "justify_items": null,
      "left": null,
      "margin": null,
      "max_height": null,
      "max_width": null,
      "min_height": null,
      "min_width": null,
      "object_fit": null,
      "object_position": null,
      "order": null,
      "overflow": null,
      "overflow_x": null,
      "overflow_y": null,
      "padding": null,
      "right": null,
      "top": null,
      "visibility": null,
      "width": null
     }
    },
    "a3e54377dd2c491fbbdddb3092ef99c3": {
     "model_module": "@jupyter-widgets/base",
     "model_module_version": "1.2.0",
     "model_name": "LayoutModel",
     "state": {
      "_model_module": "@jupyter-widgets/base",
      "_model_module_version": "1.2.0",
      "_model_name": "LayoutModel",
      "_view_count": null,
      "_view_module": "@jupyter-widgets/base",
      "_view_module_version": "1.2.0",
      "_view_name": "LayoutView",
      "align_content": null,
      "align_items": null,
      "align_self": null,
      "border": null,
      "bottom": null,
      "display": null,
      "flex": null,
      "flex_flow": null,
      "grid_area": null,
      "grid_auto_columns": null,
      "grid_auto_flow": null,
      "grid_auto_rows": null,
      "grid_column": null,
      "grid_gap": null,
      "grid_row": null,
      "grid_template_areas": null,
      "grid_template_columns": null,
      "grid_template_rows": null,
      "height": null,
      "justify_content": null,
      "justify_items": null,
      "left": null,
      "margin": null,
      "max_height": null,
      "max_width": null,
      "min_height": null,
      "min_width": null,
      "object_fit": null,
      "object_position": null,
      "order": null,
      "overflow": null,
      "overflow_x": null,
      "overflow_y": null,
      "padding": null,
      "right": null,
      "top": null,
      "visibility": null,
      "width": null
     }
    },
    "a563a0d7c3494449aa221fa6dde113eb": {
     "model_module": "@jupyter-widgets/controls",
     "model_module_version": "1.5.0",
     "model_name": "DescriptionStyleModel",
     "state": {
      "_model_module": "@jupyter-widgets/controls",
      "_model_module_version": "1.5.0",
      "_model_name": "DescriptionStyleModel",
      "_view_count": null,
      "_view_module": "@jupyter-widgets/base",
      "_view_module_version": "1.2.0",
      "_view_name": "StyleView",
      "description_width": ""
     }
    },
    "a6361cf0699d43afa6e4fce7d6d6b2d6": {
     "model_module": "@jupyter-widgets/controls",
     "model_module_version": "1.5.0",
     "model_name": "HTMLModel",
     "state": {
      "_dom_classes": [],
      "_model_module": "@jupyter-widgets/controls",
      "_model_module_version": "1.5.0",
      "_model_name": "HTMLModel",
      "_view_count": null,
      "_view_module": "@jupyter-widgets/controls",
      "_view_module_version": "1.5.0",
      "_view_name": "HTMLView",
      "description": "",
      "description_tooltip": null,
      "layout": "IPY_MODEL_a965e8fe73a04a488b9192d02e5e421c",
      "placeholder": "​",
      "style": "IPY_MODEL_6b7ecc66699543fcad0cb109364aec31",
      "value": ""
     }
    },
    "a70a3e4781414f83bf460b90f849dcff": {
     "model_module": "@jupyter-widgets/controls",
     "model_module_version": "1.5.0",
     "model_name": "DescriptionStyleModel",
     "state": {
      "_model_module": "@jupyter-widgets/controls",
      "_model_module_version": "1.5.0",
      "_model_name": "DescriptionStyleModel",
      "_view_count": null,
      "_view_module": "@jupyter-widgets/base",
      "_view_module_version": "1.2.0",
      "_view_name": "StyleView",
      "description_width": ""
     }
    },
    "a965e8fe73a04a488b9192d02e5e421c": {
     "model_module": "@jupyter-widgets/base",
     "model_module_version": "1.2.0",
     "model_name": "LayoutModel",
     "state": {
      "_model_module": "@jupyter-widgets/base",
      "_model_module_version": "1.2.0",
      "_model_name": "LayoutModel",
      "_view_count": null,
      "_view_module": "@jupyter-widgets/base",
      "_view_module_version": "1.2.0",
      "_view_name": "LayoutView",
      "align_content": null,
      "align_items": null,
      "align_self": null,
      "border": null,
      "bottom": null,
      "display": null,
      "flex": null,
      "flex_flow": null,
      "grid_area": null,
      "grid_auto_columns": null,
      "grid_auto_flow": null,
      "grid_auto_rows": null,
      "grid_column": null,
      "grid_gap": null,
      "grid_row": null,
      "grid_template_areas": null,
      "grid_template_columns": null,
      "grid_template_rows": null,
      "height": null,
      "justify_content": null,
      "justify_items": null,
      "left": null,
      "margin": null,
      "max_height": null,
      "max_width": null,
      "min_height": null,
      "min_width": null,
      "object_fit": null,
      "object_position": null,
      "order": null,
      "overflow": null,
      "overflow_x": null,
      "overflow_y": null,
      "padding": null,
      "right": null,
      "top": null,
      "visibility": null,
      "width": null
     }
    },
    "aa9a690a0dc847d482dad4acdcb0b466": {
     "model_module": "@jupyter-widgets/controls",
     "model_module_version": "1.5.0",
     "model_name": "ProgressStyleModel",
     "state": {
      "_model_module": "@jupyter-widgets/controls",
      "_model_module_version": "1.5.0",
      "_model_name": "ProgressStyleModel",
      "_view_count": null,
      "_view_module": "@jupyter-widgets/base",
      "_view_module_version": "1.2.0",
      "_view_name": "StyleView",
      "bar_color": null,
      "description_width": ""
     }
    },
    "b31f0e92ac7d49519179e2f019dff296": {
     "model_module": "@jupyter-widgets/controls",
     "model_module_version": "1.5.0",
     "model_name": "HTMLModel",
     "state": {
      "_dom_classes": [],
      "_model_module": "@jupyter-widgets/controls",
      "_model_module_version": "1.5.0",
      "_model_name": "HTMLModel",
      "_view_count": null,
      "_view_module": "@jupyter-widgets/controls",
      "_view_module_version": "1.5.0",
      "_view_name": "HTMLView",
      "description": "",
      "description_tooltip": null,
      "layout": "IPY_MODEL_46805e6e51d24c27aece53c7ec5d4048",
      "placeholder": "​",
      "style": "IPY_MODEL_5f706a09566b450dab8b6c7e82c54870",
      "value": ""
     }
    },
    "ba7e0c5b030e4b2eb443610979d27e22": {
     "model_module": "@jupyter-widgets/base",
     "model_module_version": "1.2.0",
     "model_name": "LayoutModel",
     "state": {
      "_model_module": "@jupyter-widgets/base",
      "_model_module_version": "1.2.0",
      "_model_name": "LayoutModel",
      "_view_count": null,
      "_view_module": "@jupyter-widgets/base",
      "_view_module_version": "1.2.0",
      "_view_name": "LayoutView",
      "align_content": null,
      "align_items": null,
      "align_self": null,
      "border": null,
      "bottom": null,
      "display": null,
      "flex": null,
      "flex_flow": null,
      "grid_area": null,
      "grid_auto_columns": null,
      "grid_auto_flow": null,
      "grid_auto_rows": null,
      "grid_column": null,
      "grid_gap": null,
      "grid_row": null,
      "grid_template_areas": null,
      "grid_template_columns": null,
      "grid_template_rows": null,
      "height": null,
      "justify_content": null,
      "justify_items": null,
      "left": null,
      "margin": null,
      "max_height": null,
      "max_width": null,
      "min_height": null,
      "min_width": null,
      "object_fit": null,
      "object_position": null,
      "order": null,
      "overflow": null,
      "overflow_x": null,
      "overflow_y": null,
      "padding": null,
      "right": null,
      "top": null,
      "visibility": null,
      "width": null
     }
    },
    "be476d4de072487d87c878b23058641c": {
     "model_module": "@jupyter-widgets/controls",
     "model_module_version": "1.5.0",
     "model_name": "HTMLModel",
     "state": {
      "_dom_classes": [],
      "_model_module": "@jupyter-widgets/controls",
      "_model_module_version": "1.5.0",
      "_model_name": "HTMLModel",
      "_view_count": null,
      "_view_module": "@jupyter-widgets/controls",
      "_view_module_version": "1.5.0",
      "_view_name": "HTMLView",
      "description": "",
      "description_tooltip": null,
      "layout": "IPY_MODEL_180a3f0bd0424459a828cede5d8e1197",
      "placeholder": "​",
      "style": "IPY_MODEL_6a289e41f3284e04b5d0a2a958ae4359",
      "value": ""
     }
    },
    "c5539a8f15144bfcb5792e016c15a08d": {
     "model_module": "@jupyter-widgets/controls",
     "model_module_version": "1.5.0",
     "model_name": "HTMLModel",
     "state": {
      "_dom_classes": [],
      "_model_module": "@jupyter-widgets/controls",
      "_model_module_version": "1.5.0",
      "_model_name": "HTMLModel",
      "_view_count": null,
      "_view_module": "@jupyter-widgets/controls",
      "_view_module_version": "1.5.0",
      "_view_name": "HTMLView",
      "description": "",
      "description_tooltip": null,
      "layout": "IPY_MODEL_e587950b1479471bb2333bc93412c800",
      "placeholder": "​",
      "style": "IPY_MODEL_a70a3e4781414f83bf460b90f849dcff",
      "value": " 9913344/? [00:00&lt;00:00, 38875992.02it/s]"
     }
    },
    "c851de7da3724c489baae266baacc637": {
     "model_module": "@jupyter-widgets/controls",
     "model_module_version": "1.5.0",
     "model_name": "HTMLModel",
     "state": {
      "_dom_classes": [],
      "_model_module": "@jupyter-widgets/controls",
      "_model_module_version": "1.5.0",
      "_model_name": "HTMLModel",
      "_view_count": null,
      "_view_module": "@jupyter-widgets/controls",
      "_view_module_version": "1.5.0",
      "_view_name": "HTMLView",
      "description": "",
      "description_tooltip": null,
      "layout": "IPY_MODEL_55cf70a1b94145a287d610301f30f3d2",
      "placeholder": "​",
      "style": "IPY_MODEL_f8b6f6f556c04149a3c635a285e1e732",
      "value": " 5120/? [00:00&lt;00:00, 96506.58it/s]"
     }
    },
    "cb838f2acabe40a287584ef722ff9271": {
     "model_module": "@jupyter-widgets/controls",
     "model_module_version": "1.5.0",
     "model_name": "ProgressStyleModel",
     "state": {
      "_model_module": "@jupyter-widgets/controls",
      "_model_module_version": "1.5.0",
      "_model_name": "ProgressStyleModel",
      "_view_count": null,
      "_view_module": "@jupyter-widgets/base",
      "_view_module_version": "1.2.0",
      "_view_name": "StyleView",
      "bar_color": null,
      "description_width": ""
     }
    },
    "cdb19b01567a4a43a9ff02966f24b042": {
     "model_module": "@jupyter-widgets/controls",
     "model_module_version": "1.5.0",
     "model_name": "FloatProgressModel",
     "state": {
      "_dom_classes": [],
      "_model_module": "@jupyter-widgets/controls",
      "_model_module_version": "1.5.0",
      "_model_name": "FloatProgressModel",
      "_view_count": null,
      "_view_module": "@jupyter-widgets/controls",
      "_view_module_version": "1.5.0",
      "_view_name": "ProgressView",
      "bar_style": "success",
      "description": "",
      "description_tooltip": null,
      "layout": "IPY_MODEL_2dd34329ff5342b1abc143105252cdb3",
      "max": 4542,
      "min": 0,
      "orientation": "horizontal",
      "style": "IPY_MODEL_cb838f2acabe40a287584ef722ff9271",
      "value": 4542
     }
    },
    "ce0d45367c71427bbc35ee5191d89947": {
     "model_module": "@jupyter-widgets/controls",
     "model_module_version": "1.5.0",
     "model_name": "FloatProgressModel",
     "state": {
      "_dom_classes": [],
      "_model_module": "@jupyter-widgets/controls",
      "_model_module_version": "1.5.0",
      "_model_name": "FloatProgressModel",
      "_view_count": null,
      "_view_module": "@jupyter-widgets/controls",
      "_view_module_version": "1.5.0",
      "_view_name": "ProgressView",
      "bar_style": "success",
      "description": "",
      "description_tooltip": null,
      "layout": "IPY_MODEL_41893758689e43fbbc1e2843e552cc14",
      "max": 1648877,
      "min": 0,
      "orientation": "horizontal",
      "style": "IPY_MODEL_4e88d8cbc9694bb69f1cf9cf91efe4fd",
      "value": 1648877
     }
    },
    "d05eac609b80425c8864668793e67860": {
     "model_module": "@jupyter-widgets/base",
     "model_module_version": "1.2.0",
     "model_name": "LayoutModel",
     "state": {
      "_model_module": "@jupyter-widgets/base",
      "_model_module_version": "1.2.0",
      "_model_name": "LayoutModel",
      "_view_count": null,
      "_view_module": "@jupyter-widgets/base",
      "_view_module_version": "1.2.0",
      "_view_name": "LayoutView",
      "align_content": null,
      "align_items": null,
      "align_self": null,
      "border": null,
      "bottom": null,
      "display": null,
      "flex": null,
      "flex_flow": null,
      "grid_area": null,
      "grid_auto_columns": null,
      "grid_auto_flow": null,
      "grid_auto_rows": null,
      "grid_column": null,
      "grid_gap": null,
      "grid_row": null,
      "grid_template_areas": null,
      "grid_template_columns": null,
      "grid_template_rows": null,
      "height": null,
      "justify_content": null,
      "justify_items": null,
      "left": null,
      "margin": null,
      "max_height": null,
      "max_width": null,
      "min_height": null,
      "min_width": null,
      "object_fit": null,
      "object_position": null,
      "order": null,
      "overflow": null,
      "overflow_x": null,
      "overflow_y": null,
      "padding": null,
      "right": null,
      "top": null,
      "visibility": null,
      "width": null
     }
    },
    "db50c3b5319545b29b5dce820ac09f83": {
     "model_module": "@jupyter-widgets/controls",
     "model_module_version": "1.5.0",
     "model_name": "DescriptionStyleModel",
     "state": {
      "_model_module": "@jupyter-widgets/controls",
      "_model_module_version": "1.5.0",
      "_model_name": "DescriptionStyleModel",
      "_view_count": null,
      "_view_module": "@jupyter-widgets/base",
      "_view_module_version": "1.2.0",
      "_view_name": "StyleView",
      "description_width": ""
     }
    },
    "e03c33448bde4bb78a20f0dd35352501": {
     "model_module": "@jupyter-widgets/controls",
     "model_module_version": "1.5.0",
     "model_name": "FloatProgressModel",
     "state": {
      "_dom_classes": [],
      "_model_module": "@jupyter-widgets/controls",
      "_model_module_version": "1.5.0",
      "_model_name": "FloatProgressModel",
      "_view_count": null,
      "_view_module": "@jupyter-widgets/controls",
      "_view_module_version": "1.5.0",
      "_view_name": "ProgressView",
      "bar_style": "success",
      "description": "",
      "description_tooltip": null,
      "layout": "IPY_MODEL_8ec445c50bee4f8fa200e69da32bc588",
      "max": 9912422,
      "min": 0,
      "orientation": "horizontal",
      "style": "IPY_MODEL_06a96761d54e4deda8135790829ff445",
      "value": 9912422
     }
    },
    "e587950b1479471bb2333bc93412c800": {
     "model_module": "@jupyter-widgets/base",
     "model_module_version": "1.2.0",
     "model_name": "LayoutModel",
     "state": {
      "_model_module": "@jupyter-widgets/base",
      "_model_module_version": "1.2.0",
      "_model_name": "LayoutModel",
      "_view_count": null,
      "_view_module": "@jupyter-widgets/base",
      "_view_module_version": "1.2.0",
      "_view_name": "LayoutView",
      "align_content": null,
      "align_items": null,
      "align_self": null,
      "border": null,
      "bottom": null,
      "display": null,
      "flex": null,
      "flex_flow": null,
      "grid_area": null,
      "grid_auto_columns": null,
      "grid_auto_flow": null,
      "grid_auto_rows": null,
      "grid_column": null,
      "grid_gap": null,
      "grid_row": null,
      "grid_template_areas": null,
      "grid_template_columns": null,
      "grid_template_rows": null,
      "height": null,
      "justify_content": null,
      "justify_items": null,
      "left": null,
      "margin": null,
      "max_height": null,
      "max_width": null,
      "min_height": null,
      "min_width": null,
      "object_fit": null,
      "object_position": null,
      "order": null,
      "overflow": null,
      "overflow_x": null,
      "overflow_y": null,
      "padding": null,
      "right": null,
      "top": null,
      "visibility": null,
      "width": null
     }
    },
    "f8b6f6f556c04149a3c635a285e1e732": {
     "model_module": "@jupyter-widgets/controls",
     "model_module_version": "1.5.0",
     "model_name": "DescriptionStyleModel",
     "state": {
      "_model_module": "@jupyter-widgets/controls",
      "_model_module_version": "1.5.0",
      "_model_name": "DescriptionStyleModel",
      "_view_count": null,
      "_view_module": "@jupyter-widgets/base",
      "_view_module_version": "1.2.0",
      "_view_name": "StyleView",
      "description_width": ""
     }
    }
   }
  }
 },
 "nbformat": 4,
 "nbformat_minor": 0
}
